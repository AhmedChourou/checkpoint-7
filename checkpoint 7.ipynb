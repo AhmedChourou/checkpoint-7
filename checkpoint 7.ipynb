{
 "cells": [
  {
   "cell_type": "code",
   "execution_count": 6,
   "id": "ee621e19-3d6e-479b-9318-1a1b3692579b",
   "metadata": {},
   "outputs": [
    {
     "name": "stdout",
     "output_type": "stream",
     "text": [
      "        name  score  attempts qualify\n",
      "0  Anastasia   12.5         1     yes\n",
      "1       Dima    9.0         3      no\n",
      "2  Katherine   16.5         2     yes\n",
      "-----------------------------------\n",
      "        name  score  attempts qualify\n",
      "0  Anastasia   12.5         1     yes\n",
      "1       Dima    9.0         3      no\n",
      "2  Katherine   16.5         2     yes\n",
      "4      Emily    9.0         2      no\n",
      "5    Michael   20.0         3     yes\n",
      "6    Matthew   14.5         1     yes\n",
      "8      Kevin    8.0         2      no\n",
      "9      Jonas   19.0         1     yes\n",
      "-----------------------------------\n",
      "        name  score\n",
      "0  Anastasia   12.5\n",
      "1       Dima    9.0\n",
      "2  Katherine   16.5\n",
      "4      Emily    9.0\n",
      "5    Michael   20.0\n",
      "6    Matthew   14.5\n",
      "8      Kevin    8.0\n",
      "9      Jonas   19.0\n",
      "-----------------------------------\n",
      "        name  score qualify\n",
      "0  Anastasia   12.5     yes\n",
      "1       Dima    9.0      no\n",
      "2  Katherine   16.5     yes\n",
      "4      Emily    9.0      no\n",
      "5    Michael   20.0     yes\n",
      "6    Matthew   14.5     yes\n",
      "8      Kevin    8.0      no\n",
      "9      Jonas   19.0     yes\n",
      "-----------------------------------\n",
      "        name  score qualify success\n",
      "0  Anastasia   12.5     yes       1\n",
      "1       Dima    9.0      no       0\n",
      "2  Katherine   16.5     yes       1\n",
      "4      Emily    9.0      no       0\n",
      "5    Michael   20.0     yes       1\n",
      "6    Matthew   14.5     yes       1\n",
      "8      Kevin    8.0      no       0\n",
      "9      Jonas   19.0     yes       1\n"
     ]
    }
   ],
   "source": [
    "import pandas as pd\n",
    "import numpy as np\n",
    "exam_data = {\n",
    "    'name': ['Anastasia', 'Dima', 'Katherine', 'James', 'Emily', 'Michael', 'Matthew', 'Laura', 'Kevin', 'Jonas'],\n",
    "    'score': [12.5, 9, 16.5, np.nan, 9, 20, 14.5, np.nan, 8, 19],\n",
    "    'attempts': [1, 3, 2, 3, 2, 3, 1, 1, 2, 1],\n",
    "    'qualify': ['yes', 'no', 'yes', 'no', 'no', 'yes', 'yes', 'no', 'no', 'yes']}\n",
    "labels = ['a', 'b', 'c', 'd', 'e', 'f', 'g', 'h', 'i', 'j']\n",
    "df = pd.DataFrame(exam_data)\n",
    "print(df.head(3))\n",
    "print('-----------------------------------')\n",
    "df.dropna(subset = ['score'], inplace=True)\n",
    "print(df)\n",
    "print('-----------------------------------')\n",
    "print(df[['name','score']])\n",
    "print('-----------------------------------')\n",
    "df.drop('attempts', axis=1, inplace=True)\n",
    "print(df)\n",
    "print('-----------------------------------')\n",
    "new_col={\n",
    "    'success':[]}\n",
    "l=[]\n",
    "for i in exam_data['score']:\n",
    "    if i>10:\n",
    "        l.append('1')\n",
    "    else:\n",
    "        l.append('0')\n",
    "new_col['success']=l\n",
    "dn = pd.DataFrame(new_col)\n",
    "df=pd.concat([df,dn], axis=1)\n",
    "df.dropna(subset = ['score'], inplace=True)\n",
    "print(df)\n",
    "df.to_csv('')"
   ]
  },
  {
   "cell_type": "code",
   "execution_count": null,
   "id": "693b00c7-d06e-4669-baf3-c0a24f19b0c0",
   "metadata": {},
   "outputs": [],
   "source": []
  }
 ],
 "metadata": {
  "kernelspec": {
   "display_name": "Python 3",
   "language": "python",
   "name": "python3"
  },
  "language_info": {
   "codemirror_mode": {
    "name": "ipython",
    "version": 3
   },
   "file_extension": ".py",
   "mimetype": "text/x-python",
   "name": "python",
   "nbconvert_exporter": "python",
   "pygments_lexer": "ipython3",
   "version": "3.8.8"
  }
 },
 "nbformat": 4,
 "nbformat_minor": 5
}
